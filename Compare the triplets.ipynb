{
 "cells": [
  {
   "cell_type": "markdown",
   "id": "2a7add48",
   "metadata": {},
   "source": [
    "# Insert\n",
    "এর মাধ্যমে append এর মতো list এ ভ্যালু প্রবেশ করানো যায়।"
   ]
  },
  {
   "cell_type": "markdown",
   "id": "9db84be5",
   "metadata": {},
   "source": [
    "format:\n",
    "\n",
    "list.insert(index,value)"
   ]
  },
  {
   "cell_type": "code",
   "execution_count": null,
   "id": "c446abb8",
   "metadata": {},
   "outputs": [],
   "source": [
    "li = [1,2]\n",
    "li.i"
   ]
  }
 ],
 "metadata": {
  "kernelspec": {
   "display_name": "Python 3 (ipykernel)",
   "language": "python",
   "name": "python3"
  },
  "language_info": {
   "codemirror_mode": {
    "name": "ipython",
    "version": 3
   },
   "file_extension": ".py",
   "mimetype": "text/x-python",
   "name": "python",
   "nbconvert_exporter": "python",
   "pygments_lexer": "ipython3",
   "version": "3.9.7"
  }
 },
 "nbformat": 4,
 "nbformat_minor": 5
}
