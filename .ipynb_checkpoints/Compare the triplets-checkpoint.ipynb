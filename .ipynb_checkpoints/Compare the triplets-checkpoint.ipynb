{
 "cells": [
  {
   "cell_type": "markdown",
   "id": "2a7add48",
   "metadata": {},
   "source": [
    "# Insert\n",
    "এর মাধ্যমে append এর মতো list এ ভ্যালু প্রবেশ করানো যায়।"
   ]
  },
  {
   "cell_type": "markdown",
   "id": "9db84be5",
   "metadata": {},
   "source": [
    "format:\n",
    "\n",
    "list.insert(index,value)"
   ]
  },
  {
   "cell_type": "code",
   "execution_count": 1,
   "id": "c446abb8",
   "metadata": {},
   "outputs": [
    {
     "name": "stdout",
     "output_type": "stream",
     "text": [
      "[4, 1, 2]\n"
     ]
    }
   ],
   "source": [
    "li = [1,2]\n",
    "li.insert(0,4)\n",
    "print(li)"
   ]
  },
  {
   "cell_type": "code",
   "execution_count": null,
   "id": "d65801ea",
   "metadata": {},
   "outputs": [],
   "source": []
  }
 ],
 "metadata": {
  "kernelspec": {
   "display_name": "Python 3 (ipykernel)",
   "language": "python",
   "name": "python3"
  },
  "language_info": {
   "codemirror_mode": {
    "name": "ipython",
    "version": 3
   },
   "file_extension": ".py",
   "mimetype": "text/x-python",
   "name": "python",
   "nbconvert_exporter": "python",
   "pygments_lexer": "ipython3",
   "version": "3.9.7"
  }
 },
 "nbformat": 4,
 "nbformat_minor": 5
}
